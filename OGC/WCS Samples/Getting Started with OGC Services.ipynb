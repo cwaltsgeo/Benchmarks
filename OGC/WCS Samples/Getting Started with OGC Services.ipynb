{
 "cells": [
  {
   "cell_type": "markdown",
   "metadata": {},
   "source": [
    "### Connecting to OGC Services\n",
    "The Open Geospatial Consortium (OGC) is an international voluntary consensus standards organization. The mission of the OGC is to develop, approve, and maintain standards for making your maps and related geographic data available and shareable over the web. Using OGC services and encodings enables open access to geographic data and software functionality, allowing organizations to incorporate their GIS data and services into any app on a variety of computing and mobile devices. These open services and encodings help improve the sharing and interoperability of geospatial information.\n",
    "\n",
    "This sample demonstrates how to create and publish simple examples of OGC WMTS, WMS, and WFS using the Python API. If you are interested in learning more about the specification to author and publish complex and more illustrative maps, refer to this documentation."
   ]
  },
  {
   "cell_type": "markdown",
   "metadata": {},
   "source": [
    "#### Connect to your GIS"
   ]
  },
  {
   "cell_type": "code",
   "execution_count": null,
   "metadata": {},
   "outputs": [],
   "source": [
    "from arcgis.gis import GIS\n",
    "from arcgis.layers import WMTSLayer, WMSLayer\n",
    "import json\n",
    "\n",
    "gis = GIS(\"home\")"
   ]
  },
  {
   "cell_type": "markdown",
   "metadata": {},
   "source": [
    "#### Publishing and consuming a WMTS service\n",
    "OGC Web Map Tile Service (WMTS) is a set of cached image tiles that follows the WMTS specification of OGC. You can do the following with OGC WMTS layers in ArcGIS API for Python:\n",
    "\n",
    "- publish to your organization along with the hosted tile layer, and share with the public.\n",
    "- add them to map widget for display.\n",
    "- access them as items in ArcGIS Online organization or enterprise."
   ]
  },
  {
   "cell_type": "markdown",
   "metadata": {},
   "source": [
    "#### WMTS Layer\n",
    "First, let's create a WMTSLayer, add it to map widget for display, and save as a WebMap to preserve the map."
   ]
  },
  {
   "cell_type": "code",
   "execution_count": 3,
   "metadata": {},
   "outputs": [],
   "source": [
    "wmts_url = \"https://wayback.maptiles.arcgis.com/arcgis/rest/services/world_imagery/wmts\""
   ]
  },
  {
   "cell_type": "code",
   "execution_count": 4,
   "metadata": {},
   "outputs": [
    {
     "data": {
      "text/plain": [
       "arcgis.layers._ogc.wmts.WMTSLayer"
      ]
     },
     "execution_count": 4,
     "metadata": {},
     "output_type": "execute_result"
    }
   ],
   "source": [
    "wmts_lyr = WMTSLayer(url=wmts_url)\n",
    "type(wmts_lyr)"
   ]
  },
  {
   "cell_type": "markdown",
   "metadata": {},
   "source": [
    "If we query the properties of a WMTSLayer, metadata of all layers included in this WMTSLayer can show as:"
   ]
  },
  {
   "cell_type": "code",
   "execution_count": 5,
   "metadata": {},
   "outputs": [
    {
     "data": {
      "text/plain": [
       "{'Title': 'World Imagery (Wayback 2025-01-30)',\n",
       " 'Identifier': 'WB_2025_R01',\n",
       " 'BoundingBox': {'LowerCorner': '-2.003750722959434E7 -2.003750722959434E7',\n",
       "  'UpperCorner': '2.003750722959434E7 2.003750722959434E7',\n",
       "  '@crs': 'urn:ogc:def:crs:EPSG::3857'},\n",
       " 'WGS84BoundingBox': {'LowerCorner': '-179.99999000000003 -85.051129',\n",
       "  'UpperCorner': '179.99999000000003 85.051129',\n",
       "  '@crs': 'urn:ogc:def:crs:OGC:2:84'},\n",
       " 'Style': {'Title': 'Default', 'Identifier': 'default', '@isDefault': 'true'},\n",
       " 'Format': 'image/jpeg',\n",
       " 'TileMatrixSetLink': [{'TileMatrixSet': 'default028mm'},\n",
       "  {'TileMatrixSet': 'GoogleMapsCompatible'}],\n",
       " 'ResourceURL': {'@format': 'image/jpeg',\n",
       "  '@resourceType': 'tile',\n",
       "  '@template': 'https://wayback.maptiles.arcgis.com/arcgis/rest/services/World_Imagery/WMTS/1.0.0/{TileMatrixSet}/MapServer/tile/36557/{TileMatrix}/{TileRow}/{TileCol}'}}"
      ]
     },
     "execution_count": 5,
     "metadata": {},
     "output_type": "execute_result"
    }
   ],
   "source": [
    "wmts_lyr.properties[\"Capabilities\"][\"Contents\"][\"Layer\"][0]"
   ]
  },
  {
   "cell_type": "markdown",
   "metadata": {},
   "source": [
    "Also, we can then search for how many Imagery Layers created in year 2022 are provided:"
   ]
  },
  {
   "cell_type": "code",
   "execution_count": 6,
   "metadata": {},
   "outputs": [
    {
     "name": "stdout",
     "output_type": "stream",
     "text": [
      "World Imagery (Wayback 2022-12-14)\n",
      "World Imagery (Wayback 2022-11-02)\n",
      "World Imagery (Wayback 2022-10-12)\n",
      "World Imagery (Wayback 2022-09-21)\n",
      "World Imagery (Wayback 2022-08-31)\n",
      "World Imagery (Wayback 2022-08-10)\n",
      "World Imagery (Wayback 2022-07-20)\n",
      "World Imagery (Wayback 2022-06-29)\n",
      "World Imagery (Wayback 2022-06-08)\n",
      "World Imagery (Wayback 2022-05-18)\n",
      "World Imagery (Wayback 2022-04-27)\n",
      "World Imagery (Wayback 2022-04-06)\n",
      "World Imagery (Wayback 2022-03-16)\n",
      "World Imagery (Wayback 2022-02-24)\n",
      "World Imagery (Wayback 2022-02-02)\n",
      "World Imagery (Wayback 2022-01-12)\n"
     ]
    }
   ],
   "source": [
    "for lyr in wmts_lyr.properties[\"Capabilities\"][\"Contents\"][\"Layer\"]:\n",
    "    if \"2022\" in lyr['Title']:\n",
    "        print(lyr['Title'])"
   ]
  },
  {
   "cell_type": "code",
   "execution_count": 7,
   "metadata": {},
   "outputs": [
    {
     "data": {
      "application/vnd.jupyter.widget-view+json": {
       "model_id": "827ad47c8a794a66874f469f440ac267",
       "version_major": 2,
       "version_minor": 1
      },
      "text/plain": [
       "Map(extent={'xmin': -13932302.189713778, 'ymin': 1799627.88014072, 'xmax': -6574751.7652280005, 'ymax': 743518…"
      ]
     },
     "execution_count": 7,
     "metadata": {},
     "output_type": "execute_result"
    }
   ],
   "source": [
    "m = gis.map()\n",
    "m.content.add(wmts_lyr)\n",
    "m"
   ]
  },
  {
   "cell_type": "code",
   "execution_count": 8,
   "metadata": {},
   "outputs": [
    {
     "name": "stdout",
     "output_type": "stream",
     "text": [
      "World Image Wayback 2022-12-16 16:33pm\n"
     ]
    }
   ],
   "source": [
    "webmap_properties = {'title':'World Image Wayback 2022-12-16 16:33pm',\n",
    "                     'snippet': 'Jupyter notebook widget saved as a web map',\n",
    "                     'tags':['automation', 'python']}\n",
    "\n",
    "webmap_item = m.save(webmap_properties)\n",
    "print(webmap_item.title)\n",
    "# check ArcGIS Online for the web map item"
   ]
  },
  {
   "cell_type": "markdown",
   "metadata": {},
   "source": [
    "The get_data method retrieves the data associated with the Web Map item, and we can see it contains operationalLayers and baseMap."
   ]
  },
  {
   "cell_type": "code",
   "execution_count": 9,
   "metadata": {},
   "outputs": [
    {
     "data": {
      "text/plain": [
       "{'authoringApp': 'ArcGIS Python API',\n",
       " 'authoringAppVersion': '2.4.0',\n",
       " 'baseMap': {'baseMapLayers': [{'id': 'World_Hillshade_3689',\n",
       "    'layerType': 'ArcGISTiledMapServiceLayer',\n",
       "    'opacity': 1,\n",
       "    'refreshInterval': 0,\n",
       "    'title': 'World Hillshade',\n",
       "    'url': 'https://services.arcgisonline.com/arcgis/rest/services/Elevation/World_Hillshade/MapServer',\n",
       "    'visibility': True},\n",
       "   {'id': 'VectorTile_6451',\n",
       "    'itemId': '7dc6cea0b1764a1f9af2e679f642f0f5',\n",
       "    'layerType': 'VectorTileLayer',\n",
       "    'opacity': 1,\n",
       "    'styleUrl': 'https://cdn.arcgis.com/sharing/rest/content/items/7dc6cea0b1764a1f9af2e679f642f0f5/resources/styles/root.json',\n",
       "    'title': 'World Topographic Map',\n",
       "    'visibility': True}],\n",
       "  'title': 'Topographic'},\n",
       " 'bookmarks': [],\n",
       " 'initialState': {'viewpoint': {'rotation': 0,\n",
       "   'targetGeometry': {'spatialReference': {'latestWkid': 3857, 'wkid': 102100},\n",
       "    'xmax': 802924.2108861022,\n",
       "    'xmin': -22717666.6367958,\n",
       "    'ymax': 10612112.772898564,\n",
       "    'ymin': -1128614.7717013862}}},\n",
       " 'operationalLayers': [{'fullExtent': {'spatialReference': {'wkid': 3857},\n",
       "    'xmax': 20037507.22959434,\n",
       "    'xmin': -20037507.22959434,\n",
       "    'ymax': 20037507.22959434,\n",
       "    'ymin': -20037507.22959434},\n",
       "   'id': '99b494f9a4a8',\n",
       "   'itemId': '7990672e45de448295c1843a2035ec7e',\n",
       "   'layerType': 'WebTiledLayer',\n",
       "   'maxScale': 0,\n",
       "   'minScale': 0,\n",
       "   'opacity': 1,\n",
       "   'refreshInterval': 0,\n",
       "   'templateUrl': 'https://wayback.maptiles.arcgis.com/arcgis/rest/services/World_Imagery/WMTS/1.0.0/default028mm/MapServer/tile/36557/{level}/{row}/{col}',\n",
       "   'tileInfo': {'cols': 256,\n",
       "    'dpi': 96,\n",
       "    'lods': [{'level': 0,\n",
       "      'levelValue': '0',\n",
       "      'resolution': 156543.03392798043,\n",
       "      'scale': 528299460.80074185},\n",
       "     {'level': 1,\n",
       "      'levelValue': '1',\n",
       "      'resolution': 78271.51696399009,\n",
       "      'scale': 264149730.40037048},\n",
       "     {'level': 2,\n",
       "      'levelValue': '2',\n",
       "      'resolution': 39135.758481995166,\n",
       "      'scale': 132074865.20018566},\n",
       "     {'level': 3,\n",
       "      'levelValue': '3',\n",
       "      'resolution': 19567.879240997456,\n",
       "      'scale': 66037432.60009239},\n",
       "     {'level': 4,\n",
       "      'levelValue': '4',\n",
       "      'resolution': 9783.939620498728,\n",
       "      'scale': 33018716.300046194},\n",
       "     {'level': 5,\n",
       "      'levelValue': '5',\n",
       "      'resolution': 4891.969810249364,\n",
       "      'scale': 16509358.150023097},\n",
       "     {'level': 6,\n",
       "      'levelValue': '6',\n",
       "      'resolution': 2445.984905124682,\n",
       "      'scale': 8254679.075011549},\n",
       "     {'level': 7,\n",
       "      'levelValue': '7',\n",
       "      'resolution': 1222.992452562341,\n",
       "      'scale': 4127339.5375057743},\n",
       "     {'level': 8,\n",
       "      'levelValue': '8',\n",
       "      'resolution': 611.4962262813027,\n",
       "      'scale': 2063669.7687533333},\n",
       "     {'level': 9,\n",
       "      'levelValue': '9',\n",
       "      'resolution': 305.7481131405191,\n",
       "      'scale': 1031834.8843762203},\n",
       "     {'level': 10,\n",
       "      'levelValue': '10',\n",
       "      'resolution': 152.87405657039182,\n",
       "      'scale': 515917.44218855654},\n",
       "     {'level': 11,\n",
       "      'levelValue': '11',\n",
       "      'resolution': 76.43702828506362,\n",
       "      'scale': 257958.72109383182},\n",
       "     {'level': 12,\n",
       "      'levelValue': '12',\n",
       "      'resolution': 38.21851414253181,\n",
       "      'scale': 128979.36054691591},\n",
       "     {'level': 13,\n",
       "      'levelValue': '13',\n",
       "      'resolution': 19.109257071265905,\n",
       "      'scale': 64489.680273457954},\n",
       "     {'level': 14,\n",
       "      'levelValue': '14',\n",
       "      'resolution': 9.554628535632952,\n",
       "      'scale': 32244.840136728977},\n",
       "     {'level': 15,\n",
       "      'levelValue': '15',\n",
       "      'resolution': 4.777314267948769,\n",
       "      'scale': 16122.420068810949},\n",
       "     {'level': 16,\n",
       "      'levelValue': '16',\n",
       "      'resolution': 2.3886571339743843,\n",
       "      'scale': 8061.210034405474},\n",
       "     {'level': 17,\n",
       "      'levelValue': '17',\n",
       "      'resolution': 1.1943285668549,\n",
       "      'scale': 4030.605016756279},\n",
       "     {'level': 18,\n",
       "      'levelValue': '18',\n",
       "      'resolution': 0.597164283559742,\n",
       "      'scale': 2015.302508824597},\n",
       "     {'level': 19,\n",
       "      'levelValue': '19',\n",
       "      'resolution': 0.29858214164757907,\n",
       "      'scale': 1007.6512539658414},\n",
       "     {'level': 20,\n",
       "      'levelValue': '20',\n",
       "      'resolution': 0.14929107082378953,\n",
       "      'scale': 503.8256269829207},\n",
       "     {'level': 21,\n",
       "      'levelValue': '21',\n",
       "      'resolution': 0.07464553541189477,\n",
       "      'scale': 251.91281349146035},\n",
       "     {'level': 22,\n",
       "      'levelValue': '22',\n",
       "      'resolution': 0.037322767705947384,\n",
       "      'scale': 125.95640674573018},\n",
       "     {'level': 23,\n",
       "      'levelValue': '23',\n",
       "      'resolution': 0.018661383852973692,\n",
       "      'scale': 62.97820337286509}],\n",
       "    'origin': {'spatialReference': {'wkid': 3857}, 'x': 0, 'y': 0},\n",
       "    'rows': 256,\n",
       "    'spatialReference': {'wkid': 3857}},\n",
       "   'title': 'WMTS Layer',\n",
       "   'visibility': True,\n",
       "   'wmtsInfo': {'layerIdentifier': 'World Imagery (Wayback 2025-01-30)',\n",
       "    'tileMatrixSet': 'default028mm',\n",
       "    'url': 'https://wayback.maptiles.arcgis.com/arcgis/rest/services/world_imagery/wmts'}}],\n",
       " 'referenceScale': 0,\n",
       " 'spatialReference': {'latestWkid': 3857, 'wkid': 102100},\n",
       " 'version': '2.31'}"
      ]
     },
     "execution_count": 9,
     "metadata": {},
     "output_type": "execute_result"
    }
   ],
   "source": [
    "webmap_item.get_data()"
   ]
  },
  {
   "cell_type": "code",
   "execution_count": 10,
   "metadata": {},
   "outputs": [
    {
     "data": {
      "text/plain": [
       "True"
      ]
     },
     "execution_count": 10,
     "metadata": {},
     "output_type": "execute_result"
    }
   ],
   "source": [
    "# optional - deletes the web map item\n",
    "webmap_item.delete(permanent=True)"
   ]
  },
  {
   "cell_type": "markdown",
   "metadata": {},
   "source": [
    "#### Publishing and consuming a WMS Service\n",
    "OGC Web Map Service (WMS) is a dynamic map service that follows the WMS specification of OGC. You can do the following with OGC WMS layers in ArcGIS API for Python:\n",
    "\n",
    "- Add them to a web map and display.\n",
    "- Access them through ArcGIS Online or Enterprise."
   ]
  },
  {
   "cell_type": "markdown",
   "metadata": {},
   "source": [
    "#### WMS Layer\n",
    "Now let us create a WMS Layer and explore how to render the layer, and parse the information shipped with it."
   ]
  },
  {
   "cell_type": "code",
   "execution_count": 11,
   "metadata": {},
   "outputs": [],
   "source": [
    "wms_url = \"http://mesonet.agron.iastate.edu/cgi-bin/wms/nexrad/n0r.cgi\""
   ]
  },
  {
   "cell_type": "code",
   "execution_count": 12,
   "metadata": {},
   "outputs": [
    {
     "data": {
      "text/plain": [
       "arcgis.layers._ogc._wms.WMSLayer"
      ]
     },
     "execution_count": 12,
     "metadata": {},
     "output_type": "execute_result"
    }
   ],
   "source": [
    "wms_lyr = WMSLayer(url=wms_url)\n",
    "type(wms_lyr)"
   ]
  },
  {
   "cell_type": "code",
   "execution_count": 13,
   "metadata": {},
   "outputs": [
    {
     "data": {
      "text/plain": [
       "{'Name': 'nexrad-n0r',\n",
       " 'Title': 'NEXRAD BASE REFLECT CURRENT',\n",
       " 'CRS': ['EPSG:4326', 'EPSG:26915'],\n",
       " 'EX_GeographicBoundingBox': {'westBoundLongitude': '-126.000000',\n",
       "  'eastBoundLongitude': '-66.000000',\n",
       "  'southBoundLatitude': '24.000000',\n",
       "  'northBoundLatitude': '50.000000'},\n",
       " 'BoundingBox': {'@CRS': 'EPSG:4326',\n",
       "  '@minx': '24.000000',\n",
       "  '@miny': '-126.000000',\n",
       "  '@maxx': '50.000000',\n",
       "  '@maxy': '-66.000000'},\n",
       " 'MetadataURL': {'Format': 'text/xml',\n",
       "  'OnlineResource': {'@type': 'simple',\n",
       "   '@href': 'https://mesonet.agron.iastate.edu/cgi-bin/wms/nexrad/n0r.cgi?request=GetMetadata&layer=nexrad-n0r'},\n",
       "  '@type': 'TC211'},\n",
       " '@queryable': '0',\n",
       " '@opaque': '0',\n",
       " '@cascaded': '0'}"
      ]
     },
     "execution_count": 13,
     "metadata": {},
     "output_type": "execute_result"
    }
   ],
   "source": [
    "wms_lyr.properties[\"WMS_Capabilities\"]['Capability'][\"Layer\"]['Layer'][0]"
   ]
  },
  {
   "cell_type": "markdown",
   "metadata": {},
   "source": [
    "We can parse the properties with the WMS layer, and explore how many sub-layers come with it:"
   ]
  },
  {
   "cell_type": "code",
   "execution_count": 14,
   "metadata": {},
   "outputs": [
    {
     "name": "stdout",
     "output_type": "stream",
     "text": [
      "nexrad-n0r\n",
      "nexrad-n0r-900913\n",
      "nexrad-n0r-900913-m05m\n",
      "nexrad-n0r-900913-m10m\n",
      "nexrad-n0r-900913-m15m\n",
      "nexrad-n0r-900913-m20m\n",
      "nexrad-n0r-900913-m25m\n",
      "nexrad-n0r-900913-m30m\n",
      "nexrad-n0r-900913-m35m\n",
      "nexrad-n0r-900913-m40m\n",
      "nexrad-n0r-900913-m45m\n",
      "nexrad-n0r-900913-m50m\n",
      "nexrad-n0r-m05m\n",
      "nexrad-n0r-m10m\n",
      "nexrad-n0r-m15m\n",
      "nexrad-n0r-m20m\n",
      "nexrad-n0r-m25m\n",
      "nexrad-n0r-m30m\n",
      "nexrad-n0r-m35m\n",
      "nexrad-n0r-m40m\n",
      "nexrad-n0r-m45m\n",
      "nexrad-n0r-m50m\n"
     ]
    }
   ],
   "source": [
    "for lyr in wms_lyr.properties[\"WMS_Capabilities\"]['Capability'][\"Layer\"]['Layer']:\n",
    "    print(lyr['Name'])"
   ]
  },
  {
   "cell_type": "code",
   "execution_count": 15,
   "metadata": {},
   "outputs": [
    {
     "data": {
      "application/vnd.jupyter.widget-view+json": {
       "model_id": "89719f7610fc4cad84cd9488360d7f58",
       "version_major": 2,
       "version_minor": 1
      },
      "text/plain": [
       "Map(extent={'xmin': -13932302.189713778, 'ymin': 1799627.88014072, 'xmax': -6574751.7652280005, 'ymax': 743518…"
      ]
     },
     "execution_count": 15,
     "metadata": {},
     "output_type": "execute_result"
    }
   ],
   "source": [
    "m1 = gis.map()\n",
    "m1.content.add(wms_lyr)\n",
    "m1"
   ]
  },
  {
   "cell_type": "markdown",
   "metadata": {},
   "source": [
    "Besides creating WMSLayer directly, we can also add the content (mostly the URL to the WMS service) to the GIS and creates an arcgis.gis.Item:"
   ]
  },
  {
   "cell_type": "code",
   "execution_count": 25,
   "metadata": {},
   "outputs": [
    {
     "data": {
      "text/plain": [
       "'WMS'"
      ]
     },
     "execution_count": 25,
     "metadata": {},
     "output_type": "execute_result"
    }
   ],
   "source": [
    "root_folder = gis.content.folders.get()\n",
    "dictItemData =  {\n",
    "        'title': 'nexrad-n0r (WMS)', \n",
    "        'tags': [], \n",
    "        'accessInformation': 'Esri, and the GIS User Community', 'description': \"<p style='font-family: &quot;Avenir Next&quot;, Avenir, &quot;Helvetica Neue&quot;, Helvetica, Arial, sans-serif; background-color: rgb(255, 255, 255);'>Test description</p>\", \n",
    "        'snippet': 'Test Snippet', 'url': wms_url, \n",
    "        'licenseInfo': \"<img alt='' src='https://downloads.esri.com/blogs/arcgisonline/esrilogo_new.png' /> This work is licensed under the Esri Master License Agreement.<br /><div><a href='https://goto.arcgis.com/termsofuse/viewsummary' target='_blank'><b>View Summary</b></a> | <b><a href='https://goto.arcgis.com/termsofuse/viewtermsofuse' target='_blank'>View Terms of Use</a></b></div><div><br /></div><div><div><b>Export:</b> This layer is not intended to be used to export tiles for offline.</div><div><br /></div><div><b>Data Collection and Editing: </b>This layer may be used in various ArcGIS apps to support data collection and editing, with the results used internally or shared with others, as described for these\\xa0<a href='https://www.arcgis.com/home/item.html?id=8e90a00a0a6845a49262e0b756f57a10' target='_blank'>use cases</a>.</div><div><br /></div></div>\", \n",
    "        'text': json.dumps( WMSLayer(wms_url, gis=gis)._lyr_json), \n",
    "        'type': 'WMS', \n",
    "        'typeKeywords': ['Data', 'OGC', 'Service', 'Web Map Service']\n",
    "    }\n",
    "wms_item = root_folder.add(item_properties=dictItemData).result()\n",
    "wms_item.type\n",
    "# check ArcGIS Online for the web map item"
   ]
  },
  {
   "cell_type": "code",
   "execution_count": 26,
   "metadata": {},
   "outputs": [
    {
     "data": {
      "text/plain": [
       "{'type': 'WMS',\n",
       " 'id': '52c5d8803982443ea1d2db6187a46abf',\n",
       " 'title': 'WMS Layer',\n",
       " 'url': 'http://mesonet.agron.iastate.edu/cgi-bin/wms/nexrad/n0r.cgi',\n",
       " 'version': '1.3.0',\n",
       " 'sublayers': [{'name': 'nexrad-n0r'},\n",
       "  {'name': 'nexrad-n0r-900913'},\n",
       "  {'name': 'nexrad-n0r-900913-m05m'},\n",
       "  {'name': 'nexrad-n0r-900913-m10m'},\n",
       "  {'name': 'nexrad-n0r-900913-m15m'},\n",
       "  {'name': 'nexrad-n0r-900913-m20m'},\n",
       "  {'name': 'nexrad-n0r-900913-m25m'},\n",
       "  {'name': 'nexrad-n0r-900913-m30m'},\n",
       "  {'name': 'nexrad-n0r-900913-m35m'},\n",
       "  {'name': 'nexrad-n0r-900913-m40m'},\n",
       "  {'name': 'nexrad-n0r-900913-m45m'},\n",
       "  {'name': 'nexrad-n0r-900913-m50m'},\n",
       "  {'name': 'nexrad-n0r-m05m'},\n",
       "  {'name': 'nexrad-n0r-m10m'},\n",
       "  {'name': 'nexrad-n0r-m15m'},\n",
       "  {'name': 'nexrad-n0r-m20m'},\n",
       "  {'name': 'nexrad-n0r-m25m'},\n",
       "  {'name': 'nexrad-n0r-m30m'},\n",
       "  {'name': 'nexrad-n0r-m35m'},\n",
       "  {'name': 'nexrad-n0r-m40m'},\n",
       "  {'name': 'nexrad-n0r-m45m'},\n",
       "  {'name': 'nexrad-n0r-m50m'}],\n",
       " 'minScale': 0,\n",
       " 'maxScale': 0,\n",
       " 'opacity': 1}"
      ]
     },
     "execution_count": 26,
     "metadata": {},
     "output_type": "execute_result"
    }
   ],
   "source": [
    "wms_item.get_data()"
   ]
  },
  {
   "cell_type": "code",
   "execution_count": 27,
   "metadata": {},
   "outputs": [
    {
     "data": {
      "text/plain": [
       "True"
      ]
     },
     "execution_count": 27,
     "metadata": {},
     "output_type": "execute_result"
    }
   ],
   "source": [
    "# optional - deletes the web map item\n",
    "wms_item.delete(permanent=True)"
   ]
  }
 ],
 "metadata": {
  "kernelspec": {
   "display_name": "Python 3",
   "language": "python",
   "name": "python3"
  },
  "language_info": {
   "codemirror_mode": {
    "name": "ipython",
    "version": 3
   },
   "file_extension": ".py",
   "mimetype": "text/x-python",
   "name": "python",
   "nbconvert_exporter": "python",
   "pygments_lexer": "ipython3",
   "version": "3.11.10"
  }
 },
 "nbformat": 4,
 "nbformat_minor": 2
}
