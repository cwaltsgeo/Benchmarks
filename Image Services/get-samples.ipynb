{
 "cells": [
  {
   "cell_type": "code",
   "execution_count": 1,
   "metadata": {},
   "outputs": [
    {
     "data": {
      "text/html": [
       "<div class=\"9item_container\" style=\"height: auto; overflow: hidden; border: 1px solid #cfcfcf; border-radius: 2px; background: #f6fafa; line-height: 1.21429em; padding: 10px;\">\n",
       "                    <div class=\"item_left\" style=\"width: 210px; float: left;\">\n",
       "                       <a href='https://civsci.esrigc.com/portal//home/user.html?user=cwalts@esri.com' target='_blank'>\n",
       "                        <img src='data:image/png;base64,iVBORw0KGgoAAAANSUhEUgAAAJYAAACWCAYAAAA8AXHiAAAvWUlEQVR4Xu1dd3hUxdcGv+/5/fH9lB5KCqDSA+mb3c1mk00vdAhKMwUCAtJ7J/QqiFJFRbo0KSoiCALSpHeQHqSDYkFBUt5vzuxm2Z17d0nZ3WxCzvO8D5p755aZd885c+bMuaVKvYyi0/1vGbVnhXKqejXLaxpoy2k8k8oFeY5k/72A/fdm9u/BckENLjLcK6dp8Jj9CzPo/3aPzuHn6tssoGvQtfg12bXpHnQv8fYlUkykkqbuaxWDPBVlNfVTywfVn8sIsIvhCiPIUwlpbAW6trrBVboX3ZPuTc9AzyI+X4kUISkb1PBNNsD9mfb4huFO+aAGTySD72DQM/BnYc/E/r8/PaP43CXiZFJBWatMBXXDoLJBDSYyc3SSDVyWOLBOiCx61vLqBpPKqzw19A7ie5VIYUhaqVfKahoGlA/ynMpMz1k2UBkyg1dUkEHvwEg2jd6J3k183RKxs7joPF9lvksyG4xDDP/KDFJRB73TIXpHelfx/UvEtlK6jLpBLeYQj2Wdni4zGMUV6fTOLsr6tVkflGgxW0pFdaN67Ne7iHXyQ5mOf1nwkPqA+kLsnxLJm5QuH+xZvaymwbxyxdPc5Rf/Up9Q31AfiZ1WIlaE+RVV2WxpHOvEX2U6tgR6/EZ9RH0l9l+JyEhZjWcq67TLDNkynVkCc1AfXS4b5NlF7McS0Uvp8kFeDVknfS/TebaHxhMVghuiUpCn9FjRxQ7qQ+pLsXNfSqHpNPMZhjHH9JFMZ9kFHjGBULeLQaxai7Iyx4suPB+VZ3350ocoygfVb8iwr5yDzd5b772NVVMnY51/Iv4vqJ7keBFHNvUp9a3Y38VfPD3/w35ZHcoVgnNeIaAOdv+wBn+dO4DrmqFooQopZlrLiF+pj6mvxe4vllI2uFH5sjzFxPFreRXUdTF7wXg8eXAaTx+cwaN1m7HXtwd8VQq8FlRfcn4xQBb70SykPhfHoVgJ5Sixlz1ezoGmrwzD/wXWQvWQhli+4gM8vnuSkyoHv+/YjsPRg9DWW4f/U9fBfxnBipkGo74+Xk5Xr6Y4HsVBXimnqRtWPsjzF5kXtyvqxAchbcYwXD2/y4xQpniSfgx3Fy3HqrY90UwTiorFa7bIwfuejQGNhTg4RVbKqRt2YlN8h836RFQM8UJwhxhs37oUT+7rzSDHwzP46/AenOw0AUmaGLipvbiGE9sXB5RncAlu9Mg1xLuTOD5FT9LSXmH+1MByheBPiSDzViG4AZavnWck1h8/7sAxZR/4KgPZ8WLpY3FUYBq4arAXqmm9CVmuWp9BNDbicBUN0en+l2mp0ezFnokvWpioHtwQx49swd9XDuN6+Eg0V4YxLVU8ScW1lKYRquoJZYpnrlrv0boimI9fmk11J5dzwsS7Mur66DS4E76ZMxub/ZKLraYiP9FES8kho2qw9xQaK3HwnFPYr8BAKsnLOgteb6xGSGITNFVR5L1oEKss+0G8xlBGbT2gy5x0VGZaSoZI8gjxnuz8movZbYP5czpNZYryGk9UYg59FXUjyTFnwqtqpnk0DfBfRpaUAYmY99kMjJoyEB5hvpJzCRU1DV+kpeSQQWaxVJs2/yMOp9OIwVF3Kp/KWUCTh/++QNuYwkPriVWjYnHmo1b4YW4i/rlxCJn3z+HZvTP4ctNnqKB5fi5pqSrBedBSUjzjDr0Tyis8pOAEsz9nARGJQA60W5gPug1Nxaj3RyAusTHKqaybX1dGqn0zWwBfJhmQiOydw5F57ywn1583jqFB0yB+biXSUto8ayk5ZLmGeHWmsRQHt9CEAm+FGadyNpRhJiy6uT/Wjo7F9vHx+OnLici4e5qT4vHNE+iT1pP7S2I7QgWG2QMjkbU+0YRYDF91Q+atI/wav147jPpxSlQumJaSgJnER26h3hRELXzh29QLIaLurKAAa0QTfzxa0d5M42Qd+4yTgpB+dg/K+HpI2pJP1batEv+uececVAzZW3oik5Ezg2mt+Z/OyJuDnjf8UlXnU1McZ4cKLW6yDjkmdtDLjDoRXri0sI2UGN/1N5qyh1cOoYzidbN2ZDbVcT74fXkHSVsiZub5zbztwT0bUCPERySDbRHifbx6oS1ce3r+x5Cl4LAFZWdHRYZtk5rIEIOI1ddIrMXLZuE1ZW2ztrV0jXBqbmtJO6zviKwjn/J2N87tQd1mofmZ+eUV2YxcCz0LI+XGkE9V4qwbUIY55DP7hjPfSEoqbgpPfcHJcebwFryh8zZrSzO8L8bEIVumXfbuCcz8ncEfzGFv3e0tR5AqB1kMHcVxt6tQdmK5QkjSc1aQI57YQY0MGd8I699B1t7pjFRn8ejaEcQnNeHBzpy2r7L/7peqRdY6wVn/kvyq3si8eRjP7p7FxJmj4MJmgDIEsCd+raLjefT2F8qnNqQTSzo4PyjqKSrkG6nifXFvSTsJMbjG2TYUmXdO4t+7Z5A6qDPTbHXM2rZspcA/q2UIuSEZmVd2MEKex1ebFsPV8aTiYDPFfY7IoS+t3/hgA79K48lX3XXqoCKdWOeu9cQZOd+INA6FCG78xGdyM+aMwWuqumZtPSO9kP7p25J23Fk/sx4ZzHSePvQtqoT5SQbcgciupvUaTmMvksFmot+iZZt4lbJNBF7X+WGQsgleLSLrdSJc2I9jbVqcDDEMGufCV9yv2rXtC7gFNzRrWyXYE9snN5W2W8/8sf2zGKnO4s7FA4h6J95WAdB8g+JbVUIaNRL5YDMpZ6N9f6+p62HA+L5on9AcuwO6sr8VPWL9lznrY7qHSgOZhHUdkXnkE06qm+f3wjteZaaVqe37/SPknfXvBnPTSVquz6ie9oxX5QmMXDtEPthEDDuUJR2cH7zm+wYO7PkSP89chOve/fGOKspmmZs0gK5qL7ua17LqBmjWmnyjjlJSraeZ3CROqt/TjyI6sbGZs07P1a2jGplyhNzc1Wg65346HZWY6RQHuDDhqvVJFXlRIOG1FPTb3iWdnFeUUdVDm57t8NedE3h87iDSQ4bjUEAP1FX7FZgMrwbUhja5GWYoWtt1l7NPpLdF3yh7a39k3jrKnfWhEweYpbnkOPp35Bz9DUnI/HkLJ+SObavgHhEgGdjCBiPW5Zo6hc1qRZQ2FOgouMPO4B0XgAsntxvTgx9t/BpXG/TGxoAUVFV755tcNIBhbaNw/fQPuBIyCBMCmzPfrZ7Ns0NpgfjQBy2lxCBs7IzMq7uR+eA8lq+eh/JK82yGqsyvOv1RK2k7inMd1ZvOa2d2wS8uSC7r0xnAHHnvccQJkSR5FiqXU64AMSsiCpm5V5mmUjbT4MzRrea7ZB6ewa9rNuJ60BDs9+2GpqoQPlukfX7ULjdEq6BthJQBKUg/v5tf868Te3Gu0yR0V8ehotp2moueZ+GQKBnfSE+OzDNrOTmO7d0Mt1BzZ51mwavHyDn6jFQ/pCHz3hk8/uUEOvTqgMqOC4LmB79VC/KtIfIkz2KoTyXp5NyA0oCr+NRBStNmmD9/Em5d3ifZepWDv478iLsjF+Cydig21UvG8MCmaBakRZWg3CXjNWqswvJVH+Kf+6dxZcHniI4NyxUpcwvKWOiZpMHTtTIxJwqC/jRf76xf2Au/Fjrz9pqGGNlNh0xJEJSZzm/7IfP2MTxjpnP4lCGozH5UMoPpZPCZJ/IkT6KvpJf/omfVwv3QqktL7Ny2kvtUIplEzfXkl+M4vOZzdH2nDWpofLjmygs5KIi4avVcNPMNsqkJJE0V3twff66SXyDO3jECGXdP4cntU0jsm2h01un5KbWlcYKatZVx9Dd2YqZzF49XLftiLlwkA+icYDPEf111+a8sWNpQnlHS0XkBaa2yylrQvBWJLVuWmO/rM+DJ7ZO488lKjI1sg0qK2i/M67YEmhi4Rwfq7ylzPL+oG+GFyzIZCxxf90DmL4f4TG7a7JF4VVnbsDuG0oS90TDaHzcWvSVtZ7p+eOhb1IlUSAbQqRHqs6hUfpICXaiQrA1rftKmBRdNA8xZNImbK1NS3e46C4MDG/PsALFdoUPjiS0TG8sQg2FDCjIvb+fLLpvXLUIljT6js4rBR/II9cGuac2l7ch0HviAB0EfXDmEcDbpyGlTZBDi89A9xIcK7uZNDNWJpR1dQLho6mPdho/1xGIEuzdwHpb5d5Cc5wygeNX03mEWMxYyT67kGufUke9QIyrAjByVGeYNjJZx9Jnp3D6CO+tkOlMGpRY0X70wQTPE3Iu+jrp9Sl6TiWrQVIO71w7i5q6tuOTfHw1tEMOyNV5jpHqnoxr/yjrrHZH14zROjkfXj6Jpp1ZmpKrCTGByBw2eyGQ7ZH/dHRk39uuDoIumFj1NZQaf9EoaTe6/DWQozi/pbFvhvwFvYu36hRjerws+V7SzqaNtK2goY+HzthJicHJsG4RMNhmhmVz3galmyy4UfwppEojflsoEQRkhc4Kgu7evhptGHKiih6pan2SRP/KSVuqVcvovPkg621Yg7dS+19vwig9CgirM6WpTVdN64qhsIJORavO7zFn/iZNj+dLZkhypN8N9cXqOXLYDM53HFvPgafqZXWgUp3bWIGhecShXn2eh77iUK0CIIbd4I0ZJ1U9QL8i5zKALwxpLGQtfMqf71CpOqqe3T6NV9/Zm5KBwwYpR8VK/iq8fTuamk9YPW3Rtk6tMUDKTFRV1UDGwLqrIHHcS/FtN5xsg8kgi/INHMh1uLzgTqV5TNeAZC7ILxIRNnfkiMRHrr1+OQ9k+3tjBlTRePAiaIQmCMi33bR++fkh+1aipQ60665UYmcqoGnFEJrfA1q+X8kS/qMTmufLHKjKz7N08BA2baPgPVzxuD1TVek0TeWQm9Fkzw1e0JJ1e3EEEp4yFv7+QCWTmYHMXZN7U7+2jHcmdB3bhmoec9eYJKjyRa7sxBZlX9+hN59oF7F6WM0FpKWdcz3DcX9IOl+a1wsPjG3k7HuuimSczs2IbQvVQHyQlBiO+tRLdhnXHP7dO4g+mGeO6vpUrMtoAZysolZY/iUff+yvn5HUX7IWGkV64KBvINAXzk37+xjjYB75fi9dZx/pE++HaIrlsh2TD+uF5HN29EbUj/MUBMaIyI2fvziFmyz7ZW95DJpsg5GhI/xZaSTvXEG+sHxPHQyJPVnfAn2f1kwPCihVz+PZ7sY0dkOGq9dGIfDJKWfqIpEyn5xcUgaZlDcprp4IVFDwkZ9cU9Dc6RufQudQR4nXsgZxno/tXD/XG4dkWMhYEZH83CBlsRkhkoaWYC4e+wYmPZTQVBUEPfgTaRPHg8k/Qto2z6FeRnxbfQok/V5ovGWWThrxF9zqHI3s3wiPUvB1pyuHdw56Tke55ej0/n7bh69rFWLyn7eEzSeSTUQxfJpUMwotgJJDGkxf6ouk3vVB+X0pvXrz4deh6evIx4mn0xJNC/wx6iMf07ah9JcP1yMfJeTYanI+HxkgdbksgR3xzN2TtGcUwms8SSZOZn0dB0KGMgKfw9M5pvDukKypbMYG1I9hMcoGwZMR390zhBCazFp9k7mORM9+8tcpkDVKfC5Zx+ziesIlF2uSB/F3Fe9kLrlrvUyKfuBi+oZzrfYI0WDTgtMjKSSRzM3uA7qOHnrjU2SJySM3PkblGDlwYqXola+UzFgqCr7vzkAQ565Nmj0FFaz8wZsq+nShucn2+u4cTc3gPVFaZmzSvGH/c/MTE/G7qwhe0SVutWj2fneM4UhmQ5RHkL/3GNSNLf5E8Ikgr6X/xVjqqiIAIp2upxB8rZcxYQUDrh5e+4wO84+tlcA+R3jsHtOwzpY809z17c1dkGIj5MdVpEGZ3NXQ+OPC+STWa9R2QdfZLfk/a1eOhs/MWfAuoGuI9QOQV7WymL6vLkilnYdXar7+owSva33LGQn5B5uuovvjHtTO74dMizGKfkSlr3y5IuqeQdvcY6jTs37kONXXmDj9d7wNagzSuX5rkgp3fC0XzcK6pxfs5BKG+W8xIVUlT9zVGrDs5ZCJfhRzq4kamHFQJ8cFmZn5ETVEgEKl2T+Lb4f+8cRzxnVujihUfxy82ADcXC0tGtAZ5eAGfFNy/dBCBVKfBpA1puPdStCbVaKhu1hg2czzFyyN17pfkeGvC+tI1zA9ukQpKWbpTt5nJ2iGbkSkYmZ48zyNy8MM5EORXTSPzYykImi8YHGfmrNMmil5j+/KJgnjvHJApOzFbWDKiScEPYzmpKEW5cbe2ZiQhgoU1DcRj05njV+TLHeJtZs6dgEpBtBwlvZ9dEMoIFR4At6hAngNnwBOPWIXCSCzmiKcWd0IRaAaYmBiMpzJZB2ZYzbA0GVjOIJsyI4C2bRkc59Ur56GaFVKRs754aKzkGlSnIePmYU7MibNGS7RdXTZzPD8/4XkbMpmXtnFSff3VEjYrc9DYhfrCNSLAlEzmiAl8vkXMNdhrruQCxQz0iw9lv3hLGQtGfMrINCEFGNsJGMfwPvvvtTLn5YAyFk6v5qR6dP0IFK0jJPfOAS3XDOgcgmdrBW25oRMyL3/Pr7GFkaSKQBIX1m79BHPTnXVSv2Z58vBW1IpVSe5lczBCuUUyQplrKAk8opVzOamoFHM1rc8uyYWKGaoz8/PTLPmMBSNISxGZiFSmmJMiPdeA7C39eBCUBvnQno0o719Lcm8CN2XNAqV587Sl/sQSHq+6dHIn6oSZ7yekZZ6JPcNN2rDz907itbZ+u3YYjZOb29fSkA9lTUNJsZuX93ZXe1ZgF7giuWBxAjOBa9IaW3fWVzFMlCEVYWqKRZOYtX8yJxU3g+sWobxafgmlUZQfrkhmoYwk+2bwthSvat2zgxlJyHS3a6/BE+PMkXy5gci8fYKbzPdG95bEt2wGIlS4P9NQ3CnPC666x6grlKJ6k8zuP5VcuJjAReONsewXL1d/yog1DJMZgdJkSEWYbolYicg8Ms9IrD0716K8orbkGdxCKQgqUwDEJLfr1yuHUDfMvJ0izh93PzdJGGTnG+Nbn0yHS5B9SEWzvHwQKgdPa8aqapaqFuqlFS9cXECxolYJavwlrMGZYV2S3o+yRCrCJ8nSdgZk/5jGzRiR496lA6gbY77bpkKwPmPhedzJpO23zxeZ/7h+FI1MfCU3pjF2zzRZv6TA63lD9Zrtq+Bmj9JGeTd7svCIVoSUqhrikyS5QTFBfQqCmi57yGFOsnVSfWRJWxnIQTWw7pzkA06a5IP5E9mMTr8uSKYsqaMGT8UgqLFtD56nldOWqvZVCqhHEWysHGUyc6QY2eGF/Lxb5/cisLnlwGt+4apjznn+tZQZqkcHJpVi/sdI8Sa2gofWhxYnJX93BChH6dAH5KxbMYELXkCqmZ2skso46D/NNZpDyoWaNGMEyjEz5RcfwHOrJG1M2x79lKcr87a3T2Hah2MxoXesWcZC9g/jOfH+unkC4altJKGIgkEfjxLJURB4RClHEbEWSG9WMNCvqV5sEEKCg/G61nIOkr1A918wOMbCti0DFidLiWSKKZ308SyxnRzYfbJ+msODlZR+nHH7JC7uWYoLn1kxwQaQiczaP5PHpGiPIpE0e0Mnw3Hagt+XXe8Yd+7HTR2CSlayJPKMEAoh2EZLmUOxsJRriPdmyQ0LCNqPN/XDNIxXtUSYJsTmatsaKjH0TtFaD4KuoFiVDJlyQMdWWvarZEGahTnX2VsHIHtLX16WSHKOJaynZ83RUCaL4pQKfWUn12Zr130siW8VCMz0FcBBtwqP6MDNpdhNDkpuWgDQdDkutTXu/rwPJ7T9sTIw0bYdYgVEYHVTBX4XY0WmoBngREMAVA4Ux1om087RMAZez+PC0W14QyeflpxnML+vms5PQgYb42Ap5gNdlNw8n6BVde84JQ4f2MR3Ov+2egPS/Qdigro13LW+dtVcdG3KWLgoJsyZgiLoFDqw5FcRqazMAB2HRGQdnKN31n/ej4C3Y2zWdzw2JSWCER4yf8sHLpLGuifePK+gfCEXRV00Tk3AEQOp9Fvoz+DRpq9xPXY01tTpiARVBBTBKkYye+QL+WDzhKaWg6Dkb822oqkI8yxH2I0gv2txkt6cisesgcIaNFmgWehKmeNGUPWakbx6zd83T6JL/2SbZSxYIlX1GCX/t2a0EorIEMnxfOBeqWoh3o/FB8grGsQH48OFk3Hn6kFJJRnCX+cO4ui0D9E3rDlUGjXcZK5REFRk6n16b8pYEAfJBC+aAc7KBalylnzoOoS5uSQXPdcHhvsTJlkJYVDGwo2DXFvNZX1aUVVP8r75gSVSuTEEJzdDnVZh8I7UIlXXBK4y5+URj0ljSR4iP6igrAff5qHYsPET/HNPX03mCfvVPZy9Aos1SXgj0NcuvhbFitq+E2yy7CEDMm/WSEXmkTSK2M4Uy5OkDj9d06r2MWCezAz0C5nzKGPh4lZOqq3fLodHiC36y3o4oRpz4MfNHokB04egj7Y5dqi6orLMeXmFzYiVg5phfti2dTkj1mncn7EM2/y6MA1lD9On96u0zFm/ay1jYSnDeBky5WCShUE2BR2nJR+x7RiGJS/QWh/LkGqanMaixegVnFQnKGMhXiN53/zAzQqpSFv5tovF1fO7cefCXpzU9cc1v/4Yrk2Ai8z5eYHNiUVQtInE+ZPbsSC4PeKDKFVWeo4tUIPNlA7OsrJtiwhhaWGZQIQjTSS2M0WOwy+2zWlPs0yxTQ6IdGK2BBF5lXguI9WPE5HzvZ0WnVvaJGPBmvmrGhmAwA5x2Lf/uU/8x64duBExElca9cX44LdRPzIY1Qzni9d4EexCLFrhHziuH+I0WtQKtk9ZaUonWTNGpk5CDmjAp1ggBIHMGOVeie1MQVqFfC+xbQ6stV+RJCU1kYz8NLN7UBC0PzJvH8eze2cxdFx/uBQ0YyGYFpItkIqZvshOrfDBp1NlfeK/rxzBA+a+3GiVhu3qrmili0W9KI3kOi+CTZx3OdRgJrGG1tcuSzqVNd4Y0YM+4WZhuYYIQQvLIhFMQf6SNW1D+MiCb0Z/m2+FVGuS9ZpJbEfRfuHcbNq2ZXDWP/5sOqqo60veN6+gdT9xoE3hEaeCumM8liydaV66k/nGDxetwrX4kRiuScAbUer8aizuvBc43OBIUMZCiwSVZNewGWhKLw6qCBp4a5mhi5KkbQhEqg+tzCAtmU45IjJnPcuwI2f3znWoHhkoed88I8RHHGSLqBLmjbGzR+Hx3ZP4m020rk36GFca9kXfkFYFdeDv2TRA6gh4RvnhkrUaCwstkYoGOweGv1FOu9ie8LmMb5SD95MtzyDlYmU5RBSddVqAPqTftnXnwj6oW0YU3BclUuVxmaZ6rBLfbluBLVuX4b3gptiiTkV5mfPyCB4gtemSjn3hhQPWnHUyNQIhMkek4kHCYFzTjcX1sLF4+PYgZI3qrD8+tZPUHBLZLJGKfDbxfFPMl9FUM+RJlb1jFE8v/vvWSbR5r6MNgqA++VpQJp+r/eBOiO/xNryYs54c1iQ/pk/EQbssQtsD+owF042aAshZFuJMGcO7IF2Xhkt+k3DJX4+L7L9vRIzhhOPnkUmkiPuiZL1msRSaoGuvkrlvDihWJraRI+J6ypPvwz8aQBkLY6cPQyUb+FVuBUjQ82wdAY8YFWpEK+EdpZUczyv0i9B2SJuxNWiXSs8krWyxWA5aZqFotsmgZo1M5QQyJZUR7G+/dRhoTgI5J930GMWjxPvmYEmSOSHpfNrpI5Mhkb0pFZmX6cup57B+/SJUCS344rKbhRlg4UGx0K6JfrYAaSpVjD9+t+Ssk79DAUcTImSP7ozb8SPkSWXA7fhR1skkEstSIHRVkkRTcohhBQL5VScpCHoePx//HrUjC56r5hpqfQZYGOCJfs6emuwWYqV2lQVn+V7LoVZJpSfWyNwTiyC3QG0pIi+XIUGk2j+La6q7lw5A256+nCp93zyBO+vSgS1s6FOTnXgzBVW5G9xV7uNGBtAUXhhUcs7JjxKJZAo6/uid/pK2VkEOPc0W6b6UxEfmd7pwDhFVjoAUBP1+JDLvnOLOepcBibBWhzR3yJ+z7gjoN1M48favmjofnDHdVm4KinoLGueP5H4SEknAnffRbGZocN5zCTo/i5lYbnYp+Co6+fQsM2VmgF/SponuyEw/wLXVgs9moIINctYL4qzbGfrtX4YNq1fFBy9sUCD0vWStvLaiDE9hYP98tzcuBUyUEklCKpoRdpEQxxLIX3vw9mBcCx6P67qx+LNrb8k5nFTTLcS3KGOB1y09j+1bV0jKPeYHzuesm0G/YdVZt9iXCfLC3hkyHziiyLbg1zzp9R4uKyZIiSTgSuAE/DvoXSkxLCCbEeZOi2FmppWukTHMhJhEqskp8hsvyK86sYxrqvPHtqN+42DJe+YJtAZo/7TigkK/xZ4XBQlxvqIg9cJ88GSNTLU92udnYgKfDuiGK6rxEhLJ4XbTERLyWEL2mM64yyYBF33Nr/Gz12Q86dfj+bnjU+QzJMiv2kMfDaCMhcNo3qV1gTMWnHEGKMJYFIQTS+uVKr5EYYKc9l4pWmkwdFWS2eA/G9oV10PGSggkC4pdtR0kIZAcssewmWUr+Znl1aBxz02pqUNvBspYMPlowORBqKQuWO0q11DnnAFKEKN6XsaoaqiPgj38E/Fl8gcf/VZtqqMU5sdzgsjR5M4mlcGhmQwDzWh4WRzDMTqPn8/aVQj2werR8dIBM1lcJt+HouovmgGa4l7roTBbK5QD04Z3Galkr8t8uMc9ehnPsxQ0zd6Yisz0/dwEfrpkJioXJLJOu2pYf9pql7KdYV54jT4Nxl7ijuSlXgT2wrwQV5iBPDaa/rqw6+x+X4hdkWNs4ltRrEpu8C8z/MxwwX8iLgrH0kPH8oi8hEw5ZGXm717CEIn502Mi/kjt+5xUFrfeM2f93AZOqp/2bMAb0Uppv+UBrrSptGiQimBeKpKEkeQb8aXMYPjlUK4P10JEIju9cKUIBc4vFDIYaHnEsDj8tH935qxLZ4Df+Y/A4ICuSFF0QHtFe3QOeAfj/LvjoH+a/hxGxIftBiJbTmsxstxvM0RyTY6ASfizswmpZlqYAfLt9lR95ixuU8ZCq6gC+VXcpyoK5s8IpXlxW06sYO/+4otxcDL5OTRuUpER6+JioeaByZb4+63MCXDOfwIGBqSijqIJQ1PUM6AuA/2tPvt3tn9PpskmcnLdbTmM+2fkSxGesZnircYjLGiqSXjU0SSYSrWy5PK4yFnfPsT45dSOfZN4lqukP3MDmv0VAUddhEeMUlqOm4q/s5fKMpKJ15qkwlvSC9gbFSNliEXZB9xcdcL14HHGQT/tPx5tmXZ6gxEoh1ByeJMdHxnwLjeRRK7L7N9rIeNwTTtO76TLmFXCg4RBz2ehtNC9So5U+hqi5KxTQbQJlLGgrCslTC5BJYrEPnF6xARmeYQHST8gQMLs+UnX8AIV3bIJyBT+/Imw88aQwJcxpCsumwRChwV0Qa0XkMqUXMv9B0rIIwfy3+4zf8tIKr713pKz3tlYQ/SrjZ/BXZe/2lWu5KQ70DLYFkr5T56QeEQrJ0kbOB4ujFiHxHLVBo31d9+eRpN1xH8s/BQtJASyhnjF2xKnXgIyl02HIzvNkBBIpKLdzzKkeh4EPY+LJ3agVlyQhDC5AQ98FoJ1sBWIOyKfjOIaF6BhJ2WIjRwNl8hAbJokRN0NPtbjPs+JtdS/P2rkUlvlwF0Rh/1+o6VkMiEVZT5QOMPoV9EuapFQOaTaq69B+vDKIYS2j8v7ptzQoqyljMhwjVNZ/qxcrThlGfarOSvT0KGown65Y/tEmW/toloJ4yjS3t3oDw0I6GrmrOcGNRWN8SkjpIRQBlLdjBmFrNGGkASZwQ8shBW4sz6cfxWCnPWuA7qgqqGSX27AwwhFn1AcbtGB54g7Ip/MhDlhU8WGhYHINho8M/0qlyGOlTUiFZeVE3m8qk9ACp/5ieSxBvKzZvv3kZKKIT1cWKCWy1c3gJeITN/PI+uffT4rlzNAwwzbRvE+U1SPUvLtWuLfHQTrn+4l8YgKDGAn/ivT2KEoy/wsyW4cyklnWuRmpN6Uve/f+4WzQRHVmCnc4jdcSqrQNGQM7WoeVhDz1U2QdYG2bZ3Hzu+Wwz3ckrPuwx1yY7jGDpOiOs1D4RGrQt0oDYIjwiTHHYB/PSJMou0WJS3tFaa1DslcwKGowjBtoPCByhVJfND/SOnHZ23f+4/gcSqRPNbgpWiOs/7mmRDXg8eak4pSciwV+6BPuB1bzP2q62d28Uo7RiIZl7IMKxF2IJKIiE7N4NcuFv4RoUjVNbVFpZi84jBxRqSRrLjFqpJlLuBwBDRX48Gy9s8HlTI3Z6Uwc9gF1zVjeUyqZUDbXPtZFJYY5f8uN6M5pLqqHoen/bs9J5XcNngjEkFf+KIg6G/pR9G6V3v9eqfMszsCroy4/aYMxLuje6BXSHNMD37b4cQiroj8sSguOt2rrFG6eBFHg7TWxyPjzbMcKO9pYgr+7t6Lhw22+Q+Hj6LZC30tOh4V8BaO+j0Prl5RTsA/fU1SYAhy+eoGUKHZnIyFtJmjULkQSUUgE/jDD6uxbesKfOOVjP2B3ZmW1BdRcxDSaZ1Z5I9VYf7AWJkLORwNmqpwb7mwQ4fvVE7Bo8QBfCa32X8wGgY0Z+SRN4u12d+1AQnY7z/GSCpaa/ynz3vPCUUzQMqekCEUBxXwv/4jN4FLVs9FlcjCzeIkMxv6TmO+PZ7qkKXHj8VVv37oqmuCatH2N8EEtxjlOJE3LxT3KGVt1viheLHcogb7NVW3QcCvKrvGe93C8a+YokwBU2a2HiX2x+XACTjkl4beAZ0QqGgFX6bBvBj8GEIYoSYGdDfzq64FjcPfvXrCLIVGbhu8kVRJyDR8Gvfwvk2o3cwm5RQLhJrxKvy4Z72xoMfvW7fimvcAnFD0QoNIjS12M78ID4kjIm9eLGmlXqkeE7hI5oIvhEuEP1KHdEWT8Che11I8nldUYuRaNqqxNPGPNNeETnjarwduxYzkpDnlNx67/UfiO2Yi97J/aYGa/k7OPmmp+y2HmjvqBNrtI17biER9xgIzfzfO/whlok22oBcIrrFKzF86E/8+PGtWKebB1CW45tkP61WdUSMqSNLOlvCIDvyEOCLSJlfiGq2u55GP0INLlD/2/bAOazUp/NcjHs8PXmed+f3MVtJ6WLS3j+JNY/XB0/uth+KGbgwuB0zQQzEetyJH49f2Aw2EMtFSlN9Fu5jFa5qQKnvnUO6s37t4AKHJzRzuHJuCzJ8H64cJ85lveO+UpLYVkev++M9w1bsfNqg7MYuhtsuPgDhRI1JVX+RLnoRdZJ54YWuoyl5++IxheMJe8u6geRijaWMzm/8mU//biVxy2oV2KtP2K9raPk4f7+KlHIlI9P85hKJQApUZIidd7jqmpNo1Dhl3T+PU4W8R0i6+0EhFhHJlfUhFaL/ZukxKKFMwLfZow2b80mQM9vt2R0JoHF6PUuW3zpUsPGIC54s8ybO4RvpXZxf7Tby4HKqwWVJCvw64e01fKY6qw6UnTEKf4GZ8hieenx+8HqfEF2lNkCH6XDmgWSORjLIhqHAa7ZT+MFlv7mi9cVXSCwhFxzsi68CHeHb7JDZ/9TkatQ53SExKxJvxQfBNiEDHAYn4cvNneJh+WEokC/jn+lH8tmYTfkmahu8ju2N4+FuIDY+Ed2QQ3mREE++VB/xWLdy3hsiT/EhptxjFOHbBbJmbcFRnjnrDVqGYtWgS/rh93OwFacZy9/3P8WlkF/hH6ph6LtBLcVSIDMSQnpF4sNwkxmUTMLJu7oJnJ1fj55M70SutDyqGeEru7yj4t41F93F9sHbDIlw594O8+bMEZjH+PnMQv67dgLMjZmNpy27orWuB1mEx8IvS5ld7ZRtmgqVFkuRLasYrqrKLXpa5EYd3QiQGTRuCnw5uxj+mpQcJ99mM5ccd2DVxBga37gC/yIKXySHQbNGvRRDWjG+Kv1Z1lPpeecI7fAPE092TcWzXKgydNgyvx6tRLapw41QECoJWCvfDG41VGPb+cNy4uFdKIgGPzxzA3VELccq3D0YGtuJ+rgszpWQOxevnCTGBl4kLIj8KJO4xii6SG5mA6oXXiA7A9AUTeGyFXpD8rPsTF2OWpj08IvR2XmxXUNAvT5OgwZKR8Xi4rD2yGFFySzL6OtjjNSk4snIwpn4wBNFdWjHnWP8u4n2cAfRcjd6KwsF9GyVkysEfu7YhXTMU+xTdoYwItW2fx6i6iLywibCL75DcTAA575+vnsM01Wk8nLcSS5WJzL+y/y/fJUrv5Cam6LB4VDx2zWqJc5+0xa0l7fArI9xvDLc+b8f/9sPMlviMEbEDO5cyDcrrfAs9ip4X1IkNwt4fv5SQ6vet3+K6V3/sVnazmWUwwQ6RDzYTj+ighuwGj2RuaoZ6rXS4cnondkf0QkCEY4OJpMEqR+ljX64xgajfWAn/pioGNeo11mtNOsaJKNO+KICeu1GbCNy6vO+5+Tu+D+nBw3EuoA+0EWG2frdH7pHqRiIfbCml3aKVw9ytOPKECswnSJs+HMlhNNUteIC0BFKQ75U0rCsPLzxhfuztnh/guk8/DNK2stkM3ADmsAcOp7EXyWBTcWnDF6j3yTyAEfRrqd0kmMdPxGMlsB1ej1fh1LHvcObwt9jtmYojip6sz22e7LePxlzkgV3EIzqATOKvMg9RAgeCtNb0hRMxbPoQDGWa6iM2SbKps05jHOlvVxMoEfdoVQfaSybzMCVwENyiFWjSLQEhnVtCHR6GbjobLjnR2EYpO4rjbnfxbOP5H6qO6/4Cf6sE9kXDhAh4xAehQVQwQiMiJMfziWwaWxpjcdwdItUbB5dnD3Fc5sFK4GDUZP5sHdtlNBynsRXH26FSNVZVkz3ILzIPV4KiiJjAX2hMxXEuFHGLUYa55yK+VQKnxyMaS3F8C0/SSr3iEa3sxB6sxJkvuqCx65zv5D17CnuwQR7Rgc9kHvqlBn2jxsaRcFvjGZtNDhLH03mE70lUjnZ3gvoPhQ2KMdVuEcoT9CLCI1HFRsmOtoYbjVWMenSpNm3+RxxOpxIqxcwcwCniC7xsqBajRPe0nqgQ4YcPtR3gE+nYNdPcomqUYoqxfHYRkNLuscrJ7i+p5qIsi5Dkprh+YTfat07ARf++SAuhFG3puYUFt6jAjKqRiik0VuLgObXoNZdy9MvmcxGp6jTR4Mfda3nWwd2vvsJ1r344698b7XTxqCrTxtHgY8LGpihpKnNhdpu9yCD3l2S2WDUmEKrExjiwf5N58t3ObbgROQqX/PphvqYDAiPI9yq0rA8ai0FO71PlRtiLdHYv5nGu+sxRHzplEC6c+t78y/CE+2fw1/G9uDViDr4L74H3QltAEamjKniS69gZNAadxfEpupJW6hVDELXYRugpnEDZs14JEfjkizlmpHq4cDWuBg/BeM1bxq1YYnu7IybwFx78dMY4VUHFsPxDa4vFeuG6EpsJLl6/gBNr5+KFuFq/DxYGdSwcQun7+rjTLNPYS/QL14qFxT3lxuftaBw79DVqMRO5IigZ2ohwxwdJeR8rFhb6grKjhKfcRCk7uhfjZEHKi2o3KAVVI/3ROCzG1unCucGv1MeFlvpSmGLIRKU052JpGmvEqbiWonQWmyXgvRjUl/scnvnpbEL51G5RgcPdi/ms0UF4RBsfHJajXgSkNG0vcs/FvsUSWMQOwxatohVJd5TQhxRpK7d7MTWPNkY27yt77VAubkL1AQyFSHJV5eYlxW9UoMPmtRReAilN5XKoPld+ir8VV1BfUH0qQymhErNXEKkZra5nKFuZ75qoxQAPqTxjgSvplYggaaVeoWKqBhNZ6KXCHYh0Mnm8kGxxXI5xJqHa4vwjB/ovaBRHM0nvdJjeMc911EvEBpKW9orh2z/TGMnoq2VFObEww/AO0+idcv0ZkRKxr9BnzeibefqPeSpPFYm1SP6MylP0zPTsL/w0W4kUvtD3ienj1/RldTaIdxieSAbW8aBnuEPPRM9m8RvKJVI0pG4zzWsesQoF0xCpTDvMZYO7m+Eqw1OZwbcV6Np0j938njGqVHoGehbx+UqkmIg+H19doWasqqZHtCKkenRgkkeUchSlmLAp/WZGhoMMFxnuMTyWIQ39jY7ROQf1bVhbdg1+LXZNujbdo+jmlRdM/h9QBrl0E8T3ugAAAABJRU5ErkJggg==' width='200' height='133' class=\"itemThumbnail\">\n",
       "                       </a>\n",
       "                    </div>\n",
       "\n",
       "                    <div class=\"item_right\" style=\"float: none; width: auto; overflow: hidden;\">\n",
       "                        <a href='https://civsci.esrigc.com/portal//home/user.html?user=cwalts@esri.com' target='_blank'><b>Cole Walts</b>\n",
       "                        </a>\n",
       "                        <br/><br/><b>Bio</b>: None\n",
       "                        <br/><b>First Name</b>: Cole\n",
       "                        <br/><b>Last Name</b>: Walts\n",
       "                        <br/><b>Username</b>: cwalts@esri.com\n",
       "                        <br/><b>Joined</b>: October 27, 2023\n",
       "\n",
       "                    </div>\n",
       "                </div>\n",
       "                "
      ],
      "text/plain": [
       "<User username:cwalts@esri.com>"
      ]
     },
     "execution_count": 1,
     "metadata": {},
     "output_type": "execute_result"
    }
   ],
   "source": [
    "import arcgis\n",
    "from arcgis.gis import GIS\n",
    "from arcgis.raster import ImageryLayer\n",
    "\n",
    "gis = GIS(\"Pro\")\n",
    "gis.users.me"
   ]
  },
  {
   "cell_type": "code",
   "execution_count": null,
   "metadata": {},
   "outputs": [],
   "source": [
    "base_imagery = ImageryLayer(\"#\", gis=gis)\n",
    "test_imagery = ImageryLayer(\"#\", gis=gis)"
   ]
  },
  {
   "cell_type": "code",
   "execution_count": 3,
   "metadata": {},
   "outputs": [],
   "source": [
    "# Set the parameters for the benchmark\n",
    "GEOMETRY = {\"spatialReference\":{\"wkid\":4326},\"x\":-103.3665440972982,\"y\":0.995054807838955}\n",
    "GEOMETRY_TYPE = \"point\"\n",
    "MOSAIC_RULE = {\"ascending\":True,\"multidimensionalDefinition\":[{\"variableName\":\"heatmax_ssp126\",\"dimensionName\":\"StdTime\",\"values\":[[-628560000000,249868800000]],\"isSlice\":False},{\"variableName\":\"heatmax_ssp245\",\"dimensionName\":\"StdTime\",\"values\":[[-628560000000,249868800000]],\"isSlice\":False}]}\n",
    "RETURN_FIRST_VALUE = False\n",
    "INTERPOLATION = \"RSP_NearestNeighbor\""
   ]
  },
  {
   "cell_type": "code",
   "execution_count": 4,
   "metadata": {},
   "outputs": [],
   "source": [
    "def benchmark_imagery_layer(imagery_layer, parameters):\n",
    "    return imagery_layer.get_samples(geometry=parameters[0], geometry_type=parameters[1], mosaic_rule=parameters[2], return_first_value_only=parameters[3], interpolation=parameters[4])"
   ]
  },
  {
   "cell_type": "code",
   "execution_count": 5,
   "metadata": {},
   "outputs": [],
   "source": [
    "def benchmark_report(benchmark_output):\n",
    "    print(\n",
    "f'''\n",
    "Out of {benchmark_output.repeat} runs, {benchmark_output.loops} loops each...\n",
    "\n",
    " Average   Best   Worst   stdev\n",
    "|-------|-------|-------|-------|\n",
    "| {round(benchmark_output.average, 3)} | {round(benchmark_output.best, 3)} | {round(benchmark_output.worst, 3)} | {round(benchmark_output.stdev, 3)} | seconds\n",
    "''')\n",
    "    return "
   ]
  },
  {
   "cell_type": "code",
   "execution_count": null,
   "metadata": {},
   "outputs": [
    {
     "name": "stdout",
     "output_type": "stream",
     "text": [
      "47.1 ms ± 6.87 ms per loop (mean ± std. dev. of 10 runs, 10 loops each)\n",
      "\n",
      "Out of 10 runs, 10 loops each...\n",
      "\n",
      " Average   Best   Worst   stdev\n",
      "|-------|-------|-------|-------|\n",
      "| 0.047 | 0.043 | 0.065 | 0.007 | seconds\n",
      "\n"
     ]
    }
   ],
   "source": [
    "base_output = %timeit -o -r 10 -n 10 benchmark_imagery_layer(base_imagery, [GEOMETRY, GEOMETRY_TYPE, MOSAIC_RULE, RETURN_FIRST_VALUE, INTERPOLATION])\n",
    "benchmark_report(base_output)"
   ]
  },
  {
   "cell_type": "code",
   "execution_count": null,
   "metadata": {},
   "outputs": [
    {
     "name": "stdout",
     "output_type": "stream",
     "text": [
      "257 ms ± 81 ms per loop (mean ± std. dev. of 10 runs, 10 loops each)\n",
      "\n",
      "Out of 10 runs, 10 loops each...\n",
      "\n",
      " Average   Best   Worst   stdev\n",
      "|-------|-------|-------|-------|\n",
      "| 0.257 | 0.146 | 0.405 | 0.081 | seconds\n",
      "\n"
     ]
    }
   ],
   "source": [
    "test_output = %timeit -o -r 10 -n 10 benchmark_imagery_layer(test_imagery, [GEOMETRY, GEOMETRY_TYPE, MOSAIC_RULE, RETURN_FIRST_VALUE, INTERPOLATION])\n",
    "benchmark_report(test_output)"
   ]
  }
 ],
 "metadata": {
  "kernelspec": {
   "display_name": "Python 3",
   "language": "python",
   "name": "python3"
  },
  "language_info": {
   "codemirror_mode": {
    "name": "ipython",
    "version": 3
   },
   "file_extension": ".py",
   "mimetype": "text/x-python",
   "name": "python",
   "nbconvert_exporter": "python",
   "pygments_lexer": "ipython3",
   "version": "3.11.8"
  }
 },
 "nbformat": 4,
 "nbformat_minor": 2
}
